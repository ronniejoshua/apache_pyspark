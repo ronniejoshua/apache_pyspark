{
 "cells": [
  {
   "cell_type": "code",
   "execution_count": 1,
   "metadata": {},
   "outputs": [],
   "source": [
    "from pyspark.sql import SparkSession"
   ]
  },
  {
   "cell_type": "code",
   "execution_count": 2,
   "metadata": {},
   "outputs": [],
   "source": [
    "# Creating a Spark Context\n",
    "spark = SparkSession.builder.getOrCreate()"
   ]
  },
  {
   "cell_type": "code",
   "execution_count": 3,
   "metadata": {},
   "outputs": [],
   "source": [
    "data_path = './data'"
   ]
  },
  {
   "cell_type": "code",
   "execution_count": 4,
   "metadata": {},
   "outputs": [],
   "source": [
    "file_path = f'{data_path}/location_temp.csv'"
   ]
  },
  {
   "cell_type": "code",
   "execution_count": 5,
   "metadata": {},
   "outputs": [],
   "source": [
    "sdf1 = (spark.read\n",
    "       .format(\"csv\")\n",
    "       .option(\"header\", \"true\")\n",
    "       .load(file_path))"
   ]
  },
  {
   "cell_type": "code",
   "execution_count": 6,
   "metadata": {},
   "outputs": [
    {
     "data": {
      "text/plain": [
       "[Row(event_date='03/04/2019 19:48:06', location_id='loc0', temp_celcius='29'),\n",
       " Row(event_date='03/04/2019 19:53:06', location_id='loc0', temp_celcius='27'),\n",
       " Row(event_date='03/04/2019 19:58:06', location_id='loc0', temp_celcius='28'),\n",
       " Row(event_date='03/04/2019 20:03:06', location_id='loc0', temp_celcius='30'),\n",
       " Row(event_date='03/04/2019 20:08:06', location_id='loc0', temp_celcius='27')]"
      ]
     },
     "execution_count": 6,
     "metadata": {},
     "output_type": "execute_result"
    }
   ],
   "source": [
    "sdf1.head(5)"
   ]
  },
  {
   "cell_type": "code",
   "execution_count": 7,
   "metadata": {},
   "outputs": [
    {
     "name": "stdout",
     "output_type": "stream",
     "text": [
      "+-------------------+-----------+------------+\n",
      "|         event_date|location_id|temp_celcius|\n",
      "+-------------------+-----------+------------+\n",
      "|03/04/2019 19:48:06|       loc0|          29|\n",
      "|03/04/2019 19:53:06|       loc0|          27|\n",
      "|03/04/2019 19:58:06|       loc0|          28|\n",
      "|03/04/2019 20:03:06|       loc0|          30|\n",
      "|03/04/2019 20:08:06|       loc0|          27|\n",
      "+-------------------+-----------+------------+\n",
      "only showing top 5 rows\n",
      "\n"
     ]
    }
   ],
   "source": [
    "sdf1.show(5)"
   ]
  },
  {
   "cell_type": "code",
   "execution_count": 8,
   "metadata": {},
   "outputs": [
    {
     "data": {
      "text/plain": [
       "500000"
      ]
     },
     "execution_count": 8,
     "metadata": {},
     "output_type": "execute_result"
    }
   ],
   "source": [
    "sdf1.count()"
   ]
  },
  {
   "cell_type": "code",
   "execution_count": 9,
   "metadata": {},
   "outputs": [],
   "source": [
    "file_path = f'{data_path}/utilization.csv'"
   ]
  },
  {
   "cell_type": "code",
   "execution_count": 10,
   "metadata": {},
   "outputs": [],
   "source": [
    "# CSV File does not have headers\n",
    "\n",
    "sdf2 = (spark.read\n",
    "        .format(\"csv\")\n",
    "        .option(\"header\", \"false\")\n",
    "        .option(\"inferSchema\",\"true\")\n",
    "        .load(file_path))"
   ]
  },
  {
   "cell_type": "code",
   "execution_count": 11,
   "metadata": {},
   "outputs": [
    {
     "name": "stdout",
     "output_type": "stream",
     "text": [
      "+-------------------+---+----+----+---+\n",
      "|                _c0|_c1| _c2| _c3|_c4|\n",
      "+-------------------+---+----+----+---+\n",
      "|03/05/2019 08:06:14|100|0.57|0.51| 47|\n",
      "|03/05/2019 08:11:14|100|0.47|0.62| 43|\n",
      "|03/05/2019 08:16:14|100|0.56|0.57| 62|\n",
      "|03/05/2019 08:21:14|100|0.57|0.56| 50|\n",
      "|03/05/2019 08:26:14|100|0.35|0.46| 43|\n",
      "+-------------------+---+----+----+---+\n",
      "only showing top 5 rows\n",
      "\n"
     ]
    }
   ],
   "source": [
    "sdf2.show(5)"
   ]
  },
  {
   "cell_type": "code",
   "execution_count": 12,
   "metadata": {},
   "outputs": [
    {
     "data": {
      "text/plain": [
       "500000"
      ]
     },
     "execution_count": 12,
     "metadata": {},
     "output_type": "execute_result"
    }
   ],
   "source": [
    "sdf2.count()"
   ]
  },
  {
   "cell_type": "code",
   "execution_count": 13,
   "metadata": {},
   "outputs": [],
   "source": [
    "sdf2 = (sdf2.withColumnRenamed(\"_c0\", \"event_datetime\")\n",
    "            .withColumnRenamed(\"_c1\", \"server_id\")\n",
    "            .withColumnRenamed(\"_c2\", \"cpu_utilization\")\n",
    "            .withColumnRenamed(\"_c3\", \"free_memory\")\n",
    "            .withColumnRenamed(\"_c4\", \"session_count\"))"
   ]
  },
  {
   "cell_type": "code",
   "execution_count": 14,
   "metadata": {},
   "outputs": [
    {
     "name": "stdout",
     "output_type": "stream",
     "text": [
      "+-------------------+---------+---------------+-----------+-------------+\n",
      "|     event_datetime|server_id|cpu_utilization|free_memory|session_count|\n",
      "+-------------------+---------+---------------+-----------+-------------+\n",
      "|03/05/2019 08:06:14|      100|           0.57|       0.51|           47|\n",
      "|03/05/2019 08:11:14|      100|           0.47|       0.62|           43|\n",
      "|03/05/2019 08:16:14|      100|           0.56|       0.57|           62|\n",
      "|03/05/2019 08:21:14|      100|           0.57|       0.56|           50|\n",
      "|03/05/2019 08:26:14|      100|           0.35|       0.46|           43|\n",
      "+-------------------+---------+---------------+-----------+-------------+\n",
      "only showing top 5 rows\n",
      "\n"
     ]
    }
   ],
   "source": [
    "sdf2.show(5)"
   ]
  },
  {
   "cell_type": "code",
   "execution_count": 15,
   "metadata": {},
   "outputs": [],
   "source": [
    "sdf3_json_file_path = f'{data_path}/location_temp.json'\n",
    "sdf1.write.json(sdf3_json_file_path)"
   ]
  },
  {
   "cell_type": "code",
   "execution_count": 16,
   "metadata": {},
   "outputs": [],
   "source": [
    "sdf4_json_file_path = f'{data_path}/utilization.json'\n",
    "sdf2.write.json(sdf4_json_file_path)"
   ]
  },
  {
   "cell_type": "code",
   "execution_count": 17,
   "metadata": {},
   "outputs": [
    {
     "name": "stdout",
     "output_type": "stream",
     "text": [
      "\u001b[31mlocation_temp.csv\u001b[m\u001b[m  \u001b[31mserver_name.csv\u001b[m\u001b[m    \u001b[34mutilization.json\u001b[m\u001b[m\r\n",
      "\u001b[34mlocation_temp.json\u001b[m\u001b[m \u001b[31mutilization.csv\u001b[m\u001b[m\r\n"
     ]
    }
   ],
   "source": [
    "!ls './data'"
   ]
  },
  {
   "cell_type": "code",
   "execution_count": 18,
   "metadata": {},
   "outputs": [],
   "source": [
    "sdf3 = (spark.read\n",
    "            .format(\"json\")\n",
    "            .load(sdf3_json_file_path))"
   ]
  },
  {
   "cell_type": "code",
   "execution_count": 19,
   "metadata": {},
   "outputs": [
    {
     "data": {
      "text/plain": [
       "[Row(event_date='03/05/2019 03:49:40', location_id='loc423', temp_celcius='25'),\n",
       " Row(event_date='03/05/2019 03:54:40', location_id='loc423', temp_celcius='24'),\n",
       " Row(event_date='03/05/2019 03:59:40', location_id='loc423', temp_celcius='27'),\n",
       " Row(event_date='03/05/2019 04:04:40', location_id='loc423', temp_celcius='22'),\n",
       " Row(event_date='03/05/2019 04:09:40', location_id='loc423', temp_celcius='23')]"
      ]
     },
     "execution_count": 19,
     "metadata": {},
     "output_type": "execute_result"
    }
   ],
   "source": [
    "sdf3.head(5)"
   ]
  },
  {
   "cell_type": "code",
   "execution_count": 20,
   "metadata": {},
   "outputs": [
    {
     "name": "stdout",
     "output_type": "stream",
     "text": [
      "+-------------------+-----------+------------+\n",
      "|         event_date|location_id|temp_celcius|\n",
      "+-------------------+-----------+------------+\n",
      "|03/05/2019 03:49:40|     loc423|          25|\n",
      "|03/05/2019 03:54:40|     loc423|          24|\n",
      "|03/05/2019 03:59:40|     loc423|          27|\n",
      "|03/05/2019 04:04:40|     loc423|          22|\n",
      "|03/05/2019 04:09:40|     loc423|          23|\n",
      "+-------------------+-----------+------------+\n",
      "only showing top 5 rows\n",
      "\n"
     ]
    }
   ],
   "source": [
    "sdf3.show(5)"
   ]
  },
  {
   "cell_type": "code",
   "execution_count": 21,
   "metadata": {},
   "outputs": [],
   "source": [
    "sdf4 = (spark.read\n",
    "            .format(\"json\")\n",
    "            .load(sdf4_json_file_path))"
   ]
  },
  {
   "cell_type": "code",
   "execution_count": 22,
   "metadata": {},
   "outputs": [
    {
     "name": "stdout",
     "output_type": "stream",
     "text": [
      "_SUCCESS\r\n",
      "part-00000-f90d4f80-a68b-4267-a22d-c0e04ffdc9ef-c000.json\r\n",
      "part-00001-f90d4f80-a68b-4267-a22d-c0e04ffdc9ef-c000.json\r\n",
      "part-00002-f90d4f80-a68b-4267-a22d-c0e04ffdc9ef-c000.json\r\n",
      "part-00003-f90d4f80-a68b-4267-a22d-c0e04ffdc9ef-c000.json\r\n",
      "part-00004-f90d4f80-a68b-4267-a22d-c0e04ffdc9ef-c000.json\r\n"
     ]
    }
   ],
   "source": [
    "! ls './data/utilization.json'"
   ]
  },
  {
   "cell_type": "code",
   "execution_count": 23,
   "metadata": {},
   "outputs": [
    {
     "data": {
      "text/plain": [
       "['cpu_utilization',\n",
       " 'event_datetime',\n",
       " 'free_memory',\n",
       " 'server_id',\n",
       " 'session_count']"
      ]
     },
     "execution_count": 23,
     "metadata": {},
     "output_type": "execute_result"
    }
   ],
   "source": [
    "sdf4.columns"
   ]
  },
  {
   "cell_type": "code",
   "execution_count": 24,
   "metadata": {},
   "outputs": [
    {
     "data": {
      "text/plain": [
       "DataFrame[summary: string, cpu_utilization: string, event_datetime: string, free_memory: string, server_id: string, session_count: string]"
      ]
     },
     "execution_count": 24,
     "metadata": {},
     "output_type": "execute_result"
    }
   ],
   "source": [
    "sdf4.describe()"
   ]
  },
  {
   "cell_type": "code",
   "execution_count": 25,
   "metadata": {},
   "outputs": [
    {
     "name": "stdout",
     "output_type": "stream",
     "text": [
      "+-------+-------------------+-------------------+-------------------+------------------+------------------+\n",
      "|summary|    cpu_utilization|     event_datetime|        free_memory|         server_id|     session_count|\n",
      "+-------+-------------------+-------------------+-------------------+------------------+------------------+\n",
      "|  count|             500000|             500000|             500000|            500000|            500000|\n",
      "|   mean| 0.6205177400000055|               null| 0.3791280999999993|             124.5|          69.59616|\n",
      "| stddev|0.15875173872912818|               null|0.15830931278376192|14.430884120553516|14.850676696352838|\n",
      "|    min|               0.22|03/05/2019 08:06:14|                0.0|               100|                32|\n",
      "|    max|                1.0|04/09/2019 01:22:46|               0.78|               149|               105|\n",
      "+-------+-------------------+-------------------+-------------------+------------------+------------------+\n",
      "\n"
     ]
    }
   ],
   "source": [
    "sdf4.describe().show()"
   ]
  },
  {
   "cell_type": "code",
   "execution_count": 26,
   "metadata": {
    "scrolled": true
   },
   "outputs": [
    {
     "name": "stdout",
     "output_type": "stream",
     "text": [
      "root\n",
      " |-- cpu_utilization: double (nullable = true)\n",
      " |-- event_datetime: string (nullable = true)\n",
      " |-- free_memory: double (nullable = true)\n",
      " |-- server_id: long (nullable = true)\n",
      " |-- session_count: long (nullable = true)\n",
      "\n"
     ]
    }
   ],
   "source": [
    "sdf4.printSchema()"
   ]
  },
  {
   "cell_type": "code",
   "execution_count": 27,
   "metadata": {},
   "outputs": [],
   "source": [
    "sdf4_sample = sdf4.sample(withReplacement=False, fraction=0.1)"
   ]
  },
  {
   "cell_type": "code",
   "execution_count": 28,
   "metadata": {},
   "outputs": [],
   "source": [
    "sdf4_sort = sdf4_sample.sort('event_datetime')"
   ]
  },
  {
   "cell_type": "code",
   "execution_count": 29,
   "metadata": {},
   "outputs": [
    {
     "name": "stdout",
     "output_type": "stream",
     "text": [
      "+-------------------+-----------+------------+\n",
      "|         event_date|location_id|temp_celcius|\n",
      "+-------------------+-----------+------------+\n",
      "|03/04/2019 19:48:06|       loc0|          29|\n",
      "|03/04/2019 19:53:06|       loc0|          27|\n",
      "|03/04/2019 19:58:06|       loc0|          28|\n",
      "+-------------------+-----------+------------+\n",
      "only showing top 3 rows\n",
      "\n"
     ]
    }
   ],
   "source": [
    "sdf3.filter(sdf3[\"location_id\"]==\"loc0\").show(3)"
   ]
  },
  {
   "cell_type": "code",
   "execution_count": 30,
   "metadata": {},
   "outputs": [
    {
     "data": {
      "text/plain": [
       "1000"
      ]
     },
     "execution_count": 30,
     "metadata": {},
     "output_type": "execute_result"
    }
   ],
   "source": [
    "sdf3.filter(sdf3[\"location_id\"]==\"loc0\").count()"
   ]
  },
  {
   "cell_type": "code",
   "execution_count": 31,
   "metadata": {},
   "outputs": [
    {
     "name": "stdout",
     "output_type": "stream",
     "text": [
      "+-------------------+-----------+------------+\n",
      "|         event_date|location_id|temp_celcius|\n",
      "+-------------------+-----------+------------+\n",
      "|03/04/2019 19:48:06|       loc1|          31|\n",
      "|03/04/2019 19:53:06|       loc1|          26|\n",
      "|03/04/2019 19:58:06|       loc1|          31|\n",
      "+-------------------+-----------+------------+\n",
      "only showing top 3 rows\n",
      "\n"
     ]
    }
   ],
   "source": [
    "sdf3.filter(\"location_id = 'loc1'\").show(3)"
   ]
  },
  {
   "cell_type": "code",
   "execution_count": 32,
   "metadata": {},
   "outputs": [
    {
     "name": "stdout",
     "output_type": "stream",
     "text": [
      "+-----------+-----+\n",
      "|location_id|count|\n",
      "+-----------+-----+\n",
      "|     loc196| 1000|\n",
      "|     loc463| 1000|\n",
      "|     loc226| 1000|\n",
      "+-----------+-----+\n",
      "only showing top 3 rows\n",
      "\n"
     ]
    }
   ],
   "source": [
    "sdf3.groupBy(\"location_id\").count().show(3)"
   ]
  },
  {
   "cell_type": "code",
   "execution_count": 33,
   "metadata": {},
   "outputs": [
    {
     "name": "stdout",
     "output_type": "stream",
     "text": [
      "+-------------------+-----------+------------+\n",
      "|         event_date|location_id|temp_celcius|\n",
      "+-------------------+-----------+------------+\n",
      "|03/04/2019 19:58:06|       loc0|          28|\n",
      "|03/04/2019 19:48:06|       loc0|          29|\n",
      "|03/04/2019 19:53:06|       loc0|          27|\n",
      "+-------------------+-----------+------------+\n",
      "only showing top 3 rows\n",
      "\n"
     ]
    }
   ],
   "source": [
    "sdf3.orderBy(\"location_id\").show(3)"
   ]
  },
  {
   "cell_type": "code",
   "execution_count": 34,
   "metadata": {},
   "outputs": [
    {
     "name": "stdout",
     "output_type": "stream",
     "text": [
      "+-----------+-----------------+\n",
      "|location_id|avg(temp_celcius)|\n",
      "+-----------+-----------------+\n",
      "|     loc196|           29.225|\n",
      "|     loc463|           23.317|\n",
      "|     loc226|           25.306|\n",
      "+-----------+-----------------+\n",
      "only showing top 3 rows\n",
      "\n"
     ]
    }
   ],
   "source": [
    "(sdf3.groupby('location_id')\n",
    "    .agg({'temp_celcius': 'mean'})\n",
    "    .show(3))"
   ]
  },
  {
   "cell_type": "code",
   "execution_count": 35,
   "metadata": {},
   "outputs": [
    {
     "name": "stdout",
     "output_type": "stream",
     "text": [
      "+-----------+-----------------+\n",
      "|location_id|max(temp_celcius)|\n",
      "+-----------+-----------------+\n",
      "|     loc196|               36|\n",
      "|     loc226|               32|\n",
      "|     loc463|               30|\n",
      "+-----------+-----------------+\n",
      "only showing top 3 rows\n",
      "\n"
     ]
    }
   ],
   "source": [
    "(sdf3.groupby('location_id')\n",
    "    .agg({'temp_celcius': 'max'})\n",
    "    .show(3))"
   ]
  },
  {
   "cell_type": "code",
   "execution_count": 36,
   "metadata": {},
   "outputs": [
    {
     "name": "stdout",
     "output_type": "stream",
     "text": [
      "+-----------+-----------------+\n",
      "|location_id|avg(temp_celcius)|\n",
      "+-----------+-----------------+\n",
      "|       loc0|           29.176|\n",
      "|       loc1|           28.246|\n",
      "|      loc10|           25.337|\n",
      "+-----------+-----------------+\n",
      "only showing top 3 rows\n",
      "\n"
     ]
    }
   ],
   "source": [
    "(sdf3.groupBy(\"location_id\")\n",
    "     .agg({'temp_celcius': 'mean'})\n",
    "     .orderBy(\"location_id\")\n",
    "     .show(3))"
   ]
  },
  {
   "cell_type": "code",
   "execution_count": 37,
   "metadata": {},
   "outputs": [],
   "source": [
    "sdf3.write.csv('./data/sdf3.csv')"
   ]
  },
  {
   "cell_type": "code",
   "execution_count": 38,
   "metadata": {},
   "outputs": [
    {
     "name": "stdout",
     "output_type": "stream",
     "text": [
      "\u001b[31mlocation_temp.csv\u001b[m\u001b[m  \u001b[34msdf3.csv\u001b[m\u001b[m           \u001b[31mutilization.csv\u001b[m\u001b[m\r\n",
      "\u001b[34mlocation_temp.json\u001b[m\u001b[m \u001b[31mserver_name.csv\u001b[m\u001b[m    \u001b[34mutilization.json\u001b[m\u001b[m\r\n"
     ]
    }
   ],
   "source": [
    "! ls './data'"
   ]
  },
  {
   "cell_type": "code",
   "execution_count": 39,
   "metadata": {},
   "outputs": [
    {
     "name": "stdout",
     "output_type": "stream",
     "text": [
      "_SUCCESS\r\n",
      "part-00000-f5051421-4bc9-4dc7-8e87-612f86d01554-c000.csv\r\n",
      "part-00001-f5051421-4bc9-4dc7-8e87-612f86d01554-c000.csv\r\n",
      "part-00002-f5051421-4bc9-4dc7-8e87-612f86d01554-c000.csv\r\n",
      "part-00003-f5051421-4bc9-4dc7-8e87-612f86d01554-c000.csv\r\n",
      "part-00004-f5051421-4bc9-4dc7-8e87-612f86d01554-c000.csv\r\n",
      "part-00005-f5051421-4bc9-4dc7-8e87-612f86d01554-c000.csv\r\n",
      "part-00006-f5051421-4bc9-4dc7-8e87-612f86d01554-c000.csv\r\n",
      "part-00007-f5051421-4bc9-4dc7-8e87-612f86d01554-c000.csv\r\n",
      "part-00008-f5051421-4bc9-4dc7-8e87-612f86d01554-c000.csv\r\n",
      "part-00009-f5051421-4bc9-4dc7-8e87-612f86d01554-c000.csv\r\n",
      "part-00010-f5051421-4bc9-4dc7-8e87-612f86d01554-c000.csv\r\n"
     ]
    }
   ],
   "source": [
    "!ls './data/sdf3.csv'"
   ]
  },
  {
   "cell_type": "code",
   "execution_count": 41,
   "metadata": {},
   "outputs": [
    {
     "name": "stdout",
     "output_type": "stream",
     "text": [
      "03/05/2019 03:49:40,loc423,25\r\n",
      "03/05/2019 03:54:40,loc423,24\r\n",
      "03/05/2019 03:59:40,loc423,27\r\n",
      "03/05/2019 04:04:40,loc423,22\r\n",
      "03/05/2019 04:09:40,loc423,23\r\n",
      "03/05/2019 04:14:40,loc423,26\r\n",
      "03/05/2019 04:19:40,loc423,28\r\n",
      "03/05/2019 04:24:40,loc423,22\r\n",
      "03/05/2019 04:29:40,loc423,22\r\n",
      "03/05/2019 04:34:40,loc423,24\r\n"
     ]
    }
   ],
   "source": [
    "! head './data/sdf3.csv/part-00000-f5051421-4bc9-4dc7-8e87-612f86d01554-c000.csv'"
   ]
  },
  {
   "cell_type": "code",
   "execution_count": 42,
   "metadata": {},
   "outputs": [],
   "source": [
    "sdf3.write.json('./data/sdf3.json')"
   ]
  },
  {
   "cell_type": "code",
   "execution_count": 43,
   "metadata": {},
   "outputs": [
    {
     "name": "stdout",
     "output_type": "stream",
     "text": [
      "\u001b[31mlocation_temp.csv\u001b[m\u001b[m  \u001b[34msdf3.csv\u001b[m\u001b[m           \u001b[31mserver_name.csv\u001b[m\u001b[m    \u001b[34mutilization.json\u001b[m\u001b[m\r\n",
      "\u001b[34mlocation_temp.json\u001b[m\u001b[m \u001b[34msdf3.json\u001b[m\u001b[m          \u001b[31mutilization.csv\u001b[m\u001b[m\r\n"
     ]
    }
   ],
   "source": [
    "! ls './data'"
   ]
  },
  {
   "cell_type": "code",
   "execution_count": 44,
   "metadata": {},
   "outputs": [
    {
     "name": "stdout",
     "output_type": "stream",
     "text": [
      "_SUCCESS\r\n",
      "part-00000-be0377a9-4877-4524-92ce-8e611155b4c5-c000.json\r\n",
      "part-00001-be0377a9-4877-4524-92ce-8e611155b4c5-c000.json\r\n",
      "part-00002-be0377a9-4877-4524-92ce-8e611155b4c5-c000.json\r\n",
      "part-00003-be0377a9-4877-4524-92ce-8e611155b4c5-c000.json\r\n",
      "part-00004-be0377a9-4877-4524-92ce-8e611155b4c5-c000.json\r\n",
      "part-00005-be0377a9-4877-4524-92ce-8e611155b4c5-c000.json\r\n",
      "part-00006-be0377a9-4877-4524-92ce-8e611155b4c5-c000.json\r\n",
      "part-00007-be0377a9-4877-4524-92ce-8e611155b4c5-c000.json\r\n",
      "part-00008-be0377a9-4877-4524-92ce-8e611155b4c5-c000.json\r\n",
      "part-00009-be0377a9-4877-4524-92ce-8e611155b4c5-c000.json\r\n",
      "part-00010-be0377a9-4877-4524-92ce-8e611155b4c5-c000.json\r\n"
     ]
    }
   ],
   "source": [
    "!ls './data/sdf3.json'"
   ]
  },
  {
   "cell_type": "code",
   "execution_count": 45,
   "metadata": {},
   "outputs": [
    {
     "name": "stdout",
     "output_type": "stream",
     "text": [
      "{\"event_date\":\"03/05/2019 03:49:40\",\"location_id\":\"loc423\",\"temp_celcius\":\"25\"}\r\n",
      "{\"event_date\":\"03/05/2019 03:54:40\",\"location_id\":\"loc423\",\"temp_celcius\":\"24\"}\r\n",
      "{\"event_date\":\"03/05/2019 03:59:40\",\"location_id\":\"loc423\",\"temp_celcius\":\"27\"}\r\n",
      "{\"event_date\":\"03/05/2019 04:04:40\",\"location_id\":\"loc423\",\"temp_celcius\":\"22\"}\r\n",
      "{\"event_date\":\"03/05/2019 04:09:40\",\"location_id\":\"loc423\",\"temp_celcius\":\"23\"}\r\n",
      "{\"event_date\":\"03/05/2019 04:14:40\",\"location_id\":\"loc423\",\"temp_celcius\":\"26\"}\r\n",
      "{\"event_date\":\"03/05/2019 04:19:40\",\"location_id\":\"loc423\",\"temp_celcius\":\"28\"}\r\n",
      "{\"event_date\":\"03/05/2019 04:24:40\",\"location_id\":\"loc423\",\"temp_celcius\":\"22\"}\r\n",
      "{\"event_date\":\"03/05/2019 04:29:40\",\"location_id\":\"loc423\",\"temp_celcius\":\"22\"}\r\n",
      "{\"event_date\":\"03/05/2019 04:34:40\",\"location_id\":\"loc423\",\"temp_celcius\":\"24\"}\r\n"
     ]
    }
   ],
   "source": [
    "! head './data/sdf3.json/part-00000-be0377a9-4877-4524-92ce-8e611155b4c5-c000.json'"
   ]
  },
  {
   "cell_type": "code",
   "execution_count": null,
   "metadata": {},
   "outputs": [],
   "source": []
  }
 ],
 "metadata": {
  "kernelspec": {
   "display_name": "Python 3",
   "language": "python",
   "name": "python3"
  },
  "language_info": {
   "codemirror_mode": {
    "name": "ipython",
    "version": 3
   },
   "file_extension": ".py",
   "mimetype": "text/x-python",
   "name": "python",
   "nbconvert_exporter": "python",
   "pygments_lexer": "ipython3",
   "version": "3.7.3"
  }
 },
 "nbformat": 4,
 "nbformat_minor": 2
}
